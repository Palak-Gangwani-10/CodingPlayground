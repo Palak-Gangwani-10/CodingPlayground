{
 "cells": [
  {
   "cell_type": "markdown",
   "metadata": {
    "id": "pcq3rnMc294F"
   },
   "source": [
    "# Python Programming Exercises - Day 1\n",
    "## Basic Python Concepts for Data Science Students\n",
    "\n",
    "### Variables and Data Types (Questions 1-20)\n",
    "1. Create a variable `age` and assign it your age. Print the type of the variable.\n",
    "2. Create three variables `x`, `y`, and `z` with values 10, 20.5, and \"Hello\" respectively. Print their types.\n",
    "3. Convert the float value 45.6 to an integer and store it in a variable. What's the resulting value?\n",
    "4. Create a variable with a complex number (3 + 4j). Print its real and imaginary parts.\n",
    "5. Declare a boolean variable `is_student` and set it to True. Print its opposite value using the not operator.\n",
    "6. Create a variable with your name and convert all characters to uppercase.\n",
    "7. Calculate the length of your name string using the appropriate function.\n",
    "8. Create two string variables containing your first and last name. Concatenate them with a space in between.\n",
    "9. Create a variable with value 3.14159. Round it to 2 decimal places.\n",
    "10. Convert the integer 42 to a string and concatenate it with \"is the answer\".\n",
    "11. Create a variable containing the string \"25\" and convert it to an integer.\n",
    "12. Demonstrate the difference between '7' * 3 and 7 * 3.\n",
    "13. Create a variable `temperature` with value 24.5 and convert it to an integer using both int() and round().\n",
    "14. Create a string with multiple words and split it into a list.\n",
    "15. Join a list of words ['Python', 'is', 'awesome'] into a single string using spaces.\n",
    "16. Create a string variable and print its third character.\n",
    "17. Create a string variable and print its last character using negative indexing.\n",
    "18. Create a variable storing your birth year and calculate your age using the current year.\n",
    "19. Create a multi-line string using triple quotes and print it.\n",
    "20. Demonstrate the use of the 'in' operator to check if a substring exists in a string.\n",
    "\n",
    "### Basic Operations (Questions 21-40)\n",
    "21. Write an expression that adds 5 and 3, multiplies the result by 2, and subtracts 4.\n",
    "22. Calculate the remainder when 17 is divided by 3.\n",
    "23. Use floor division to divide 17 by 3.\n",
    "24. Calculate 2 raised to the power of 5 using both ** and pow().\n",
    "25. Write an expression that uses parentheses to demonstrate operator precedence.\n",
    "26. Calculate the absolute value of -42.\n",
    "27. Find the maximum value between three numbers using max().\n",
    "28. Find the minimum value between three numbers using min().\n",
    "29. Round 3.75 to the nearest integer using round().\n",
    "30. Calculate the square root of 16 using pow() with a fractional exponent.\n",
    "31. Use comparison operators to check if 7 is greater than 5 and less than 10.\n",
    "32. Compare two strings lexicographically using comparison operators.\n",
    "33. Demonstrate the use of += operator with both numbers and strings.\n",
    "34. Show the difference between = and == operators with examples.\n",
    "35. Use the modulo operator to check if a number is even or odd.\n",
    "36. Calculate the perimeter of a rectangle given its length and width.\n",
    "37. Calculate the area of a circle given its radius (use 3.14159 for π).\n",
    "38. Convert temperature from Celsius to Fahrenheit using the formula (C * 9/5) + 32.\n",
    "39. Calculate the average of three numbers.\n",
    "40. Demonstrate the use of round() with negative numbers for decimal places.\n",
    "\n",
    "### String Operations (Questions 41-60)\n",
    "41. Create a string and print its reverse using slicing.\n",
    "42. Extract every third character from a string using slicing.\n",
    "43. Remove whitespace from both ends of a string using appropriate method.\n",
    "44. Replace all occurrences of 'a' with '@' in a string.\n",
    "45. Check if a string starts with a specific substring.\n",
    "46. Check if a string ends with a specific substring.\n",
    "47. Convert a string to title case (first letter of each word capitalized).\n",
    "48. Count the number of occurrences of a letter in a string.\n",
    "49. Find the position of a substring in a string using find().\n",
    "50. Find the position of a substring in a string using index().\n",
    "51. Compare the behavior of find() and index() when substring is not found.\n",
    "52. Create a string with numbers and letters and extract only the digits.\n",
    "53. Create a string with numbers and letters and extract only the letters.\n",
    "54. Convert a string to a list of characters.\n",
    "55. Center a string in a 20-character space with '*' as padding.\n",
    "56. Right-align a string in a 20-character space with '-' as padding.\n",
    "57. Left-align a string in a 20-character space with '-' as padding.\n",
    "58. Check if a string contains only alphabetic characters.\n",
    "59. Check if a string contains only numeric characters.\n",
    "60. Convert a string to a list of words and back to a string.\n",
    "\n",
    "### List Operations (Questions 61-80)\n",
    "61. Create a list of numbers and find its length.\n",
    "62. Access the first, last, and middle elements of a list.\n",
    "63. Add an element to the end of a list using append().\n",
    "64. Insert an element at a specific position in a list.\n",
    "65. Remove the last element from a list using pop().\n",
    "66. Remove a specific element from a list using remove().\n",
    "67. Sort a list of numbers in ascending order.\n",
    "68. Sort a list of numbers in descending order.\n",
    "69. Create a list of strings and sort it alphabetically.\n",
    "70. Create a list of strings and sort it by length.\n",
    "71. Reverse a list using reverse() method.\n",
    "72. Create a shallow copy of a list.\n",
    "73. Create a deep copy of a nested list.\n",
    "74. Find the index of an element in a list.\n",
    "75. Count the occurrences of an element in a list.\n",
    "76. Concatenate two lists using both + operator and extend() method.\n",
    "77. Create a list of numbers and calculate their sum.\n",
    "78. Create a list of numbers and calculate their average.\n",
    "79. Remove duplicates from a list while preserving order.\n",
    "80. Check if two lists have at least one element in common.\n",
    "\n",
    "### Basic Control Flow (Questions 81-100)\n",
    "81. Write an if statement to check if a number is positive.\n",
    "82. Use if-elif-else to classify a number as positive, negative, or zero.\n",
    "83. Check if a year is a leap year.\n",
    "84. Use nested if statements to check if a number is both even and positive.\n",
    "85. Write a program to find the maximum of three numbers using if statements.\n",
    "86. Create a simple calculator that performs basic operations based on user input.\n",
    "87. Check if a character is a vowel or consonant.\n",
    "88. Determine the grade based on a score (A, B, C, D, F).\n",
    "89. Check if a triangle is equilateral, isosceles, or scalene based on sides.\n",
    "90. Write a program to check if a number is divisible by both 2 and 3.\n",
    "91. Use a while loop to print numbers from 1 to 5.\n",
    "92. Use a for loop to print numbers from 1 to 5.\n",
    "93. Print the multiplication table of a number using a loop.\n",
    "94. Calculate the factorial of a number using a loop.\n",
    "95. Print even numbers from 1 to 10 using a loop.\n",
    "96. Print odd numbers from 1 to 10 using a loop.\n",
    "97. Calculate the sum of numbers from 1 to n using a loop.\n",
    "98. Print the Fibonacci sequence up to n terms using a loop.\n",
    "99. Use a loop to find all factors of a number.\n",
    "100. Print a pattern of asterisks (right-angled triangle) using nested loops.\n",
    "\n",
    "### Note to Students:\n",
    "- Attempt these questions in order as they build upon each other\n",
    "- Write clean, well-commented code\n",
    "- Test your solutions with different inputs\n",
    "- Try to solve each problem independently before looking at solutions\n",
    "- Practice proper naming conventions and code formatting"
   ]
  },
  {
   "cell_type": "markdown",
   "metadata": {},
   "source": [
    "# Variables and Data Types"
   ]
  },
  {
   "cell_type": "code",
   "execution_count": 1,
   "metadata": {},
   "outputs": [
    {
     "name": "stdout",
     "output_type": "stream",
     "text": [
      "<class 'int'>\n"
     ]
    }
   ],
   "source": [
    "age = 26\n",
    "print(type(age))"
   ]
  },
  {
   "cell_type": "code",
   "execution_count": 2,
   "metadata": {},
   "outputs": [
    {
     "name": "stdout",
     "output_type": "stream",
     "text": [
      "<class 'int'>\n",
      "<class 'float'>\n",
      "<class 'str'>\n"
     ]
    }
   ],
   "source": [
    "x = 10\n",
    "y = 20.5\n",
    "z = \"Hello\"\n",
    "print(type(x))\n",
    "print(type(y))\n",
    "print(type(z))"
   ]
  },
  {
   "cell_type": "code",
   "execution_count": 21,
   "metadata": {},
   "outputs": [
    {
     "name": "stdout",
     "output_type": "stream",
     "text": [
      "45\n"
     ]
    }
   ],
   "source": [
    "float_value = 45.6 \n",
    "integer_value = int(float_value)\n",
    "print(integer_value)"
   ]
  },
  {
   "cell_type": "code",
   "execution_count": 8,
   "metadata": {},
   "outputs": [
    {
     "name": "stdout",
     "output_type": "stream",
     "text": [
      "<class 'complex'>\n",
      "3.0\n",
      "4.0\n"
     ]
    }
   ],
   "source": [
    "a =(3 + 4j)\n",
    "print(type(a))\n",
    "print(a.real)\n",
    "print(a.imag)"
   ]
  },
  {
   "cell_type": "code",
   "execution_count": 10,
   "metadata": {},
   "outputs": [
    {
     "name": "stdout",
     "output_type": "stream",
     "text": [
      "False\n"
     ]
    }
   ],
   "source": [
    "is_student = True \n",
    "print(not is_student)"
   ]
  },
  {
   "cell_type": "code",
   "execution_count": 15,
   "metadata": {},
   "outputs": [
    {
     "name": "stdout",
     "output_type": "stream",
     "text": [
      "PALAK\n"
     ]
    }
   ],
   "source": [
    "name = \"palak\"\n",
    "uppercase= name.upper()\n",
    "print(uppercase)"
   ]
  },
  {
   "cell_type": "code",
   "execution_count": 16,
   "metadata": {},
   "outputs": [
    {
     "name": "stdout",
     "output_type": "stream",
     "text": [
      "5\n"
     ]
    }
   ],
   "source": [
    "print(len(name))"
   ]
  },
  {
   "cell_type": "code",
   "execution_count": 18,
   "metadata": {},
   "outputs": [
    {
     "name": "stdout",
     "output_type": "stream",
     "text": [
      "palak Gangwani\n"
     ]
    }
   ],
   "source": [
    "surname = \"Gangwani\"\n",
    "full_name = name + \" \" + surname\n",
    "print(full_name)"
   ]
  },
  {
   "cell_type": "code",
   "execution_count": 19,
   "metadata": {},
   "outputs": [
    {
     "data": {
      "text/plain": [
       "3.14"
      ]
     },
     "execution_count": 19,
     "metadata": {},
     "output_type": "execute_result"
    }
   ],
   "source": [
    "a = 3.14159\n",
    "round(a,2)"
   ]
  },
  {
   "cell_type": "code",
   "execution_count": 22,
   "metadata": {},
   "outputs": [
    {
     "name": "stdout",
     "output_type": "stream",
     "text": [
      "42 is the answer\n"
     ]
    }
   ],
   "source": [
    "integer = 42\n",
    "string = str(integer)\n",
    "print(string + \" is the answer\")"
   ]
  },
  {
   "cell_type": "code",
   "execution_count": 24,
   "metadata": {},
   "outputs": [
    {
     "name": "stdout",
     "output_type": "stream",
     "text": [
      "<class 'int'>\n"
     ]
    }
   ],
   "source": [
    "string = '25'\n",
    "integer = int(string)\n",
    "print(type(integer))"
   ]
  },
  {
   "cell_type": "code",
   "execution_count": 25,
   "metadata": {},
   "outputs": [
    {
     "name": "stdout",
     "output_type": "stream",
     "text": [
      "777\n",
      "21\n"
     ]
    }
   ],
   "source": [
    "a = '7'\n",
    "b = 7\n",
    "c = 3\n",
    "print( a * c)\n",
    "print(b * c)"
   ]
  },
  {
   "cell_type": "code",
   "execution_count": 27,
   "metadata": {},
   "outputs": [
    {
     "name": "stdout",
     "output_type": "stream",
     "text": [
      "24\n"
     ]
    },
    {
     "data": {
      "text/plain": [
       "24"
      ]
     },
     "execution_count": 27,
     "metadata": {},
     "output_type": "execute_result"
    }
   ],
   "source": [
    "temp = 24.5\n",
    "integer = int(temp)\n",
    "print(integer)\n",
    "round(temp)"
   ]
  },
  {
   "cell_type": "code",
   "execution_count": 32,
   "metadata": {},
   "outputs": [
    {
     "data": {
      "text/plain": [
       "['This', 'will', 'split', 'a', 'sentence', 'to', 'words']"
      ]
     },
     "execution_count": 32,
     "metadata": {},
     "output_type": "execute_result"
    }
   ],
   "source": [
    "sentence = \"This will split a sentence to words\"\n",
    "sentence.split(\" \")"
   ]
  },
  {
   "cell_type": "code",
   "execution_count": 33,
   "metadata": {},
   "outputs": [
    {
     "name": "stdout",
     "output_type": "stream",
     "text": [
      "Python is awesome\n"
     ]
    }
   ],
   "source": [
    "words = ['Python', 'is', 'awesome']\n",
    "sentence = \" \".join(words)  # Use a space as the separator\n",
    "print(sentence)"
   ]
  },
  {
   "cell_type": "code",
   "execution_count": 38,
   "metadata": {},
   "outputs": [
    {
     "name": "stdout",
     "output_type": "stream",
     "text": [
      "l\n"
     ]
    }
   ],
   "source": [
    "name = \"Palak\"\n",
    "print(name[2])"
   ]
  },
  {
   "cell_type": "code",
   "execution_count": 39,
   "metadata": {},
   "outputs": [
    {
     "name": "stdout",
     "output_type": "stream",
     "text": [
      "k\n"
     ]
    }
   ],
   "source": [
    "print(name[-1])"
   ]
  },
  {
   "cell_type": "code",
   "execution_count": 40,
   "metadata": {},
   "outputs": [
    {
     "name": "stdout",
     "output_type": "stream",
     "text": [
      "27\n"
     ]
    }
   ],
   "source": [
    "birth_year = 1998\n",
    "current_age = 2025 - birth_year\n",
    "print(current_age)"
   ]
  },
  {
   "cell_type": "code",
   "execution_count": 41,
   "metadata": {},
   "outputs": [
    {
     "name": "stdout",
     "output_type": "stream",
     "text": [
      "This is a multi-line string.\n",
      "It spans multiple lines.\n",
      "You can include line breaks directly.\n"
     ]
    }
   ],
   "source": [
    "# Multi-line string using triple quotes\n",
    "multi_line_string = \"\"\"This is a multi-line string.\n",
    "It spans multiple lines.\n",
    "You can include line breaks directly.\"\"\"\n",
    "print(multi_line_string)\n"
   ]
  },
  {
   "cell_type": "code",
   "execution_count": 43,
   "metadata": {},
   "outputs": [
    {
     "data": {
      "text/plain": [
       "True"
      ]
     },
     "execution_count": 43,
     "metadata": {},
     "output_type": "execute_result"
    }
   ],
   "source": [
    "'a' in full_name"
   ]
  },
  {
   "cell_type": "markdown",
   "metadata": {},
   "source": [
    "# Basic"
   ]
  },
  {
   "cell_type": "code",
   "execution_count": 44,
   "metadata": {},
   "outputs": [
    {
     "data": {
      "text/plain": [
       "12"
      ]
     },
     "execution_count": 44,
     "metadata": {},
     "output_type": "execute_result"
    }
   ],
   "source": [
    "(5 + 3)*2 - 4"
   ]
  },
  {
   "cell_type": "code",
   "execution_count": 46,
   "metadata": {},
   "outputs": [
    {
     "data": {
      "text/plain": [
       "2"
      ]
     },
     "execution_count": 46,
     "metadata": {},
     "output_type": "execute_result"
    }
   ],
   "source": [
    "17%3"
   ]
  },
  {
   "cell_type": "code",
   "execution_count": 49,
   "metadata": {},
   "outputs": [
    {
     "data": {
      "text/plain": [
       "5"
      ]
     },
     "execution_count": 49,
     "metadata": {},
     "output_type": "execute_result"
    }
   ],
   "source": [
    "17//3"
   ]
  },
  {
   "cell_type": "code",
   "execution_count": 50,
   "metadata": {},
   "outputs": [
    {
     "data": {
      "text/plain": [
       "32"
      ]
     },
     "execution_count": 50,
     "metadata": {},
     "output_type": "execute_result"
    }
   ],
   "source": [
    "2**5"
   ]
  },
  {
   "cell_type": "code",
   "execution_count": 53,
   "metadata": {},
   "outputs": [
    {
     "data": {
      "text/plain": [
       "32"
      ]
     },
     "execution_count": 53,
     "metadata": {},
     "output_type": "execute_result"
    }
   ],
   "source": [
    "pow(2,5)"
   ]
  },
  {
   "cell_type": "code",
   "execution_count": null,
   "metadata": {},
   "outputs": [],
   "source": [
    "# The precedence of operators (from highest to lowest) is: \n",
    "'''Parentheses ()\n",
    "Exponentiation **\n",
    "Multiplication *, Division /, Floor division //, Modulus %\n",
    "Addition +, Subtraction -'''"
   ]
  },
  {
   "cell_type": "code",
   "execution_count": 1,
   "metadata": {},
   "outputs": [
    {
     "data": {
      "text/plain": [
       "42"
      ]
     },
     "execution_count": 1,
     "metadata": {},
     "output_type": "execute_result"
    }
   ],
   "source": [
    "abs(-42)"
   ]
  },
  {
   "cell_type": "code",
   "execution_count": 2,
   "metadata": {},
   "outputs": [
    {
     "data": {
      "text/plain": [
       "50"
      ]
     },
     "execution_count": 2,
     "metadata": {},
     "output_type": "execute_result"
    }
   ],
   "source": [
    "max(20,50,10)"
   ]
  },
  {
   "cell_type": "code",
   "execution_count": 3,
   "metadata": {},
   "outputs": [
    {
     "data": {
      "text/plain": [
       "10"
      ]
     },
     "execution_count": 3,
     "metadata": {},
     "output_type": "execute_result"
    }
   ],
   "source": [
    "min(20,50,10)"
   ]
  },
  {
   "cell_type": "code",
   "execution_count": 4,
   "metadata": {},
   "outputs": [
    {
     "data": {
      "text/plain": [
       "4"
      ]
     },
     "execution_count": 4,
     "metadata": {},
     "output_type": "execute_result"
    }
   ],
   "source": [
    "round(3.75)"
   ]
  },
  {
   "cell_type": "code",
   "execution_count": 6,
   "metadata": {},
   "outputs": [
    {
     "data": {
      "text/plain": [
       "4.0"
      ]
     },
     "execution_count": 6,
     "metadata": {},
     "output_type": "execute_result"
    }
   ],
   "source": [
    "number = 16\n",
    "square_root = pow(number, 0.5)\n",
    "square_root"
   ]
  },
  {
   "cell_type": "code",
   "execution_count": 8,
   "metadata": {},
   "outputs": [
    {
     "name": "stdout",
     "output_type": "stream",
     "text": [
      "True\n"
     ]
    }
   ],
   "source": [
    "if 7 > 5 and 7 < 10:\n",
    "    print ('True') \n",
    "else:\n",
    "    print ('False')"
   ]
  },
  {
   "cell_type": "code",
   "execution_count": 9,
   "metadata": {},
   "outputs": [
    {
     "name": "stdout",
     "output_type": "stream",
     "text": [
      "97\n",
      "98\n",
      "True\n",
      "False\n",
      "False\n",
      "True\n",
      "True\n",
      "False\n"
     ]
    }
   ],
   "source": [
    "print(ord('a'))  \n",
    "print(ord('b'))  \n",
    "\n",
    "# Compare two strings lexicographically\n",
    "string1 = \"a\"\n",
    "string2 = \"b\"\n",
    "\n",
    "# Using comparison operators\n",
    "print(string1 < string2)   \n",
    "print(string1 > string2)   \n",
    "print(string1 == string2)  \n",
    "print(string1 != string2)  \n",
    "print(string1 <= string2) \n",
    "print(string1 >= string2)  \n",
    "\n"
   ]
  },
  {
   "cell_type": "code",
   "execution_count": 10,
   "metadata": {},
   "outputs": [
    {
     "name": "stdout",
     "output_type": "stream",
     "text": [
      "6\n"
     ]
    }
   ],
   "source": [
    "a = 4\n",
    "a += 2\n",
    "print(a)"
   ]
  },
  {
   "cell_type": "code",
   "execution_count": 13,
   "metadata": {},
   "outputs": [
    {
     "name": "stdout",
     "output_type": "stream",
     "text": [
      "palak new\n"
     ]
    }
   ],
   "source": [
    "name = \"palak\"\n",
    "name += \" new\"\n",
    "print(name)"
   ]
  },
  {
   "cell_type": "code",
   "execution_count": 15,
   "metadata": {},
   "outputs": [
    {
     "data": {
      "text/plain": [
       "False"
      ]
     },
     "execution_count": 15,
     "metadata": {},
     "output_type": "execute_result"
    }
   ],
   "source": [
    "a = 5 \n",
    "a == 6"
   ]
  },
  {
   "cell_type": "code",
   "execution_count": 16,
   "metadata": {},
   "outputs": [
    {
     "name": "stdout",
     "output_type": "stream",
     "text": [
      "odd\n"
     ]
    }
   ],
   "source": [
    "num = 5\n",
    "if num % 2 == 0:\n",
    "    print(\"even\")\n",
    "else:\n",
    "    print(\"odd\")"
   ]
  },
  {
   "cell_type": "code",
   "execution_count": 18,
   "metadata": {},
   "outputs": [
    {
     "data": {
      "text/plain": [
       "140"
      ]
     },
     "execution_count": 18,
     "metadata": {},
     "output_type": "execute_result"
    }
   ],
   "source": [
    "length = 50\n",
    "width = 20\n",
    "perimeter = 2*(length + width)\n",
    "perimeter"
   ]
  },
  {
   "cell_type": "code",
   "execution_count": 19,
   "metadata": {},
   "outputs": [
    {
     "data": {
      "text/plain": [
       "50.26544"
      ]
     },
     "execution_count": 19,
     "metadata": {},
     "output_type": "execute_result"
    }
   ],
   "source": [
    "radius = 4\n",
    "area = 3.14159 * pow(radius,2)\n",
    "area"
   ]
  },
  {
   "cell_type": "code",
   "execution_count": 20,
   "metadata": {},
   "outputs": [
    {
     "data": {
      "text/plain": [
       "39.2"
      ]
     },
     "execution_count": 20,
     "metadata": {},
     "output_type": "execute_result"
    }
   ],
   "source": [
    "C = 4\n",
    "F = (C * 9/5) + 32\n",
    "F"
   ]
  },
  {
   "cell_type": "code",
   "execution_count": 21,
   "metadata": {},
   "outputs": [
    {
     "name": "stdout",
     "output_type": "stream",
     "text": [
      "Mean: 30.0\n"
     ]
    }
   ],
   "source": [
    "data = [10, 20, 30, 40, 50]\n",
    "mean_value = sum(data) / len(data)\n",
    "print(f\"Mean: {mean_value}\")\n"
   ]
  },
  {
   "cell_type": "code",
   "execution_count": 22,
   "metadata": {},
   "outputs": [
    {
     "data": {
      "text/plain": [
       "-30"
      ]
     },
     "execution_count": 22,
     "metadata": {},
     "output_type": "execute_result"
    }
   ],
   "source": [
    "round(-30.456)"
   ]
  },
  {
   "cell_type": "code",
   "execution_count": null,
   "metadata": {},
   "outputs": [],
   "source": []
  }
 ],
 "metadata": {
  "colab": {
   "provenance": []
  },
  "kernelspec": {
   "display_name": "Python 3 (ipykernel)",
   "language": "python",
   "name": "python3"
  },
  "language_info": {
   "codemirror_mode": {
    "name": "ipython",
    "version": 3
   },
   "file_extension": ".py",
   "mimetype": "text/x-python",
   "name": "python",
   "nbconvert_exporter": "python",
   "pygments_lexer": "ipython3",
   "version": "3.13.1"
  }
 },
 "nbformat": 4,
 "nbformat_minor": 4
}
