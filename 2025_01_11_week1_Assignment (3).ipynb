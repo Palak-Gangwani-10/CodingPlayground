{
 "cells": [
  {
   "cell_type": "markdown",
   "metadata": {
    "id": "pcq3rnMc294F"
   },
   "source": [
    "# Python Programming Exercises - Day 1\n",
    "## Basic Python Concepts for Data Science Students\n",
    "\n",
    "### Variables and Data Types (Questions 1-20)\n",
    "1. Create a variable `age` and assign it your age. Print the type of the variable.\n",
    "2. Create three variables `x`, `y`, and `z` with values 10, 20.5, and \"Hello\" respectively. Print their types.\n",
    "3. Convert the float value 45.6 to an integer and store it in a variable. What's the resulting value?\n",
    "4. Create a variable with a complex number (3 + 4j). Print its real and imaginary parts.\n",
    "5. Declare a boolean variable `is_student` and set it to True. Print its opposite value using the not operator.\n",
    "6. Create a variable with your name and convert all characters to uppercase.\n",
    "7. Calculate the length of your name string using the appropriate function.\n",
    "8. Create two string variables containing your first and last name. Concatenate them with a space in between.\n",
    "9. Create a variable with value 3.14159. Round it to 2 decimal places.\n",
    "10. Convert the integer 42 to a string and concatenate it with \"is the answer\".\n",
    "11. Create a variable containing the string \"25\" and convert it to an integer.\n",
    "12. Demonstrate the difference between '7' * 3 and 7 * 3.\n",
    "13. Create a variable `temperature` with value 24.5 and convert it to an integer using both int() and round().\n",
    "14. Create a string with multiple words and split it into a list.\n",
    "15. Join a list of words ['Python', 'is', 'awesome'] into a single string using spaces.\n",
    "16. Create a string variable and print its third character.\n",
    "17. Create a string variable and print its last character using negative indexing.\n",
    "18. Create a variable storing your birth year and calculate your age using the current year.\n",
    "19. Create a multi-line string using triple quotes and print it.\n",
    "20. Demonstrate the use of the 'in' operator to check if a substring exists in a string.\n",
    "\n",
    "### Basic Operations (Questions 21-40)\n",
    "21. Write an expression that adds 5 and 3, multiplies the result by 2, and subtracts 4.\n",
    "22. Calculate the remainder when 17 is divided by 3.\n",
    "23. Use floor division to divide 17 by 3.\n",
    "24. Calculate 2 raised to the power of 5 using both ** and pow().\n",
    "25. Write an expression that uses parentheses to demonstrate operator precedence.\n",
    "26. Calculate the absolute value of -42.\n",
    "27. Find the maximum value between three numbers using max().\n",
    "28. Find the minimum value between three numbers using min().\n",
    "29. Round 3.75 to the nearest integer using round().\n",
    "30. Calculate the square root of 16 using pow() with a fractional exponent.\n",
    "31. Use comparison operators to check if 7 is greater than 5 and less than 10.\n",
    "32. Compare two strings lexicographically using comparison operators.\n",
    "33. Demonstrate the use of += operator with both numbers and strings.\n",
    "34. Show the difference between = and == operators with examples.\n",
    "35. Use the modulo operator to check if a number is even or odd.\n",
    "36. Calculate the perimeter of a rectangle given its length and width.\n",
    "37. Calculate the area of a circle given its radius (use 3.14159 for π).\n",
    "38. Convert temperature from Celsius to Fahrenheit using the formula (C * 9/5) + 32.\n",
    "39. Calculate the average of three numbers.\n",
    "40. Demonstrate the use of round() with negative numbers for decimal places.\n",
    "\n",
    "### String Operations (Questions 41-60)\n",
    "41. Create a string and print its reverse using slicing.\n",
    "42. Extract every third character from a string using slicing.\n",
    "43. Remove whitespace from both ends of a string using appropriate method.\n",
    "44. Replace all occurrences of 'a' with '@' in a string.\n",
    "45. Check if a string starts with a specific substring.\n",
    "46. Check if a string ends with a specific substring.\n",
    "47. Convert a string to title case (first letter of each word capitalized).\n",
    "48. Count the number of occurrences of a letter in a string.\n",
    "49. Find the position of a substring in a string using find().\n",
    "50. Find the position of a substring in a string using index().\n",
    "51. Compare the behavior of find() and index() when substring is not found.\n",
    "52. Create a string with numbers and letters and extract only the digits.\n",
    "53. Create a string with numbers and letters and extract only the letters.\n",
    "54. Convert a string to a list of characters.\n",
    "55. Center a string in a 20-character space with '*' as padding.\n",
    "56. Right-align a string in a 20-character space with '-' as padding.\n",
    "57. Left-align a string in a 20-character space with '-' as padding.\n",
    "58. Check if a string contains only alphabetic characters.\n",
    "59. Check if a string contains only numeric characters.\n",
    "60. Convert a string to a list of words and back to a string.\n",
    "\n",
    "### List Operations (Questions 61-80)\n",
    "61. Create a list of numbers and find its length.\n",
    "62. Access the first, last, and middle elements of a list.\n",
    "63. Add an element to the end of a list using append().\n",
    "64. Insert an element at a specific position in a list.\n",
    "65. Remove the last element from a list using pop().\n",
    "66. Remove a specific element from a list using remove().\n",
    "67. Sort a list of numbers in ascending order.\n",
    "68. Sort a list of numbers in descending order.\n",
    "69. Create a list of strings and sort it alphabetically.\n",
    "70. Create a list of strings and sort it by length.\n",
    "71. Reverse a list using reverse() method.\n",
    "72. Create a shallow copy of a list.\n",
    "73. Create a deep copy of a nested list.\n",
    "74. Find the index of an element in a list.\n",
    "75. Count the occurrences of an element in a list.\n",
    "76. Concatenate two lists using both + operator and extend() method.\n",
    "77. Create a list of numbers and calculate their sum.\n",
    "78. Create a list of numbers and calculate their average.\n",
    "79. Remove duplicates from a list while preserving order.\n",
    "80. Check if two lists have at least one element in common.\n",
    "\n",
    "### Basic Control Flow (Questions 81-100)\n",
    "81. Write an if statement to check if a number is positive.\n",
    "82. Use if-elif-else to classify a number as positive, negative, or zero.\n",
    "83. Check if a year is a leap year.\n",
    "84. Use nested if statements to check if a number is both even and positive.\n",
    "85. Write a program to find the maximum of three numbers using if statements.\n",
    "86. Create a simple calculator that performs basic operations based on user input.\n",
    "87. Check if a character is a vowel or consonant.\n",
    "88. Determine the grade based on a score (A, B, C, D, F).\n",
    "89. Check if a triangle is equilateral, isosceles, or scalene based on sides.\n",
    "90. Write a program to check if a number is divisible by both 2 and 3.\n",
    "91. Use a while loop to print numbers from 1 to 5.\n",
    "92. Use a for loop to print numbers from 1 to 5.\n",
    "93. Print the multiplication table of a number using a loop.\n",
    "94. Calculate the factorial of a number using a loop.\n",
    "95. Print even numbers from 1 to 10 using a loop.\n",
    "96. Print odd numbers from 1 to 10 using a loop.\n",
    "97. Calculate the sum of numbers from 1 to n using a loop.\n",
    "98. Print the Fibonacci sequence up to n terms using a loop.\n",
    "99. Use a loop to find all factors of a number.\n",
    "100. Print a pattern of asterisks (right-angled triangle) using nested loops.\n",
    "\n",
    "### Note to Students:\n",
    "- Attempt these questions in order as they build upon each other\n",
    "- Write clean, well-commented code\n",
    "- Test your solutions with different inputs\n",
    "- Try to solve each problem independently before looking at solutions\n",
    "- Practice proper naming conventions and code formatting"
   ]
  },
  {
   "cell_type": "markdown",
   "metadata": {},
   "source": [
    "# Variables and Data Types"
   ]
  },
  {
   "cell_type": "code",
   "execution_count": 53,
   "metadata": {},
   "outputs": [
    {
     "name": "stdout",
     "output_type": "stream",
     "text": [
      "<class 'int'>\n"
     ]
    }
   ],
   "source": [
    "age = 26\n",
    "print(type(age))"
   ]
  },
  {
   "cell_type": "code",
   "execution_count": 54,
   "metadata": {},
   "outputs": [
    {
     "name": "stdout",
     "output_type": "stream",
     "text": [
      "<class 'int'>\n",
      "<class 'float'>\n",
      "<class 'str'>\n"
     ]
    }
   ],
   "source": [
    "x = 10\n",
    "y = 20.5\n",
    "z = \"Hello\"\n",
    "print(type(x))\n",
    "print(type(y))\n",
    "print(type(z))"
   ]
  },
  {
   "cell_type": "code",
   "execution_count": 55,
   "metadata": {},
   "outputs": [
    {
     "name": "stdout",
     "output_type": "stream",
     "text": [
      "45\n"
     ]
    }
   ],
   "source": [
    "float_value = 45.6 \n",
    "integer_value = int(float_value)\n",
    "print(integer_value)"
   ]
  },
  {
   "cell_type": "code",
   "execution_count": 56,
   "metadata": {},
   "outputs": [
    {
     "name": "stdout",
     "output_type": "stream",
     "text": [
      "<class 'complex'>\n",
      "3.0\n",
      "4.0\n"
     ]
    }
   ],
   "source": [
    "a =(3 + 4j)\n",
    "print(type(a))\n",
    "print(a.real)\n",
    "print(a.imag)"
   ]
  },
  {
   "cell_type": "code",
   "execution_count": 57,
   "metadata": {},
   "outputs": [
    {
     "name": "stdout",
     "output_type": "stream",
     "text": [
      "False\n"
     ]
    }
   ],
   "source": [
    "is_student = True \n",
    "print(not is_student)"
   ]
  },
  {
   "cell_type": "code",
   "execution_count": 58,
   "metadata": {},
   "outputs": [
    {
     "name": "stdout",
     "output_type": "stream",
     "text": [
      "PALAK\n"
     ]
    }
   ],
   "source": [
    "name = \"palak\"\n",
    "uppercase= name.upper()\n",
    "print(uppercase)"
   ]
  },
  {
   "cell_type": "code",
   "execution_count": 59,
   "metadata": {},
   "outputs": [
    {
     "name": "stdout",
     "output_type": "stream",
     "text": [
      "5\n"
     ]
    }
   ],
   "source": [
    "print(len(name))"
   ]
  },
  {
   "cell_type": "code",
   "execution_count": 60,
   "metadata": {},
   "outputs": [
    {
     "name": "stdout",
     "output_type": "stream",
     "text": [
      "palak Gangwani\n"
     ]
    }
   ],
   "source": [
    "surname = \"Gangwani\"\n",
    "full_name = name + \" \" + surname\n",
    "print(full_name)"
   ]
  },
  {
   "cell_type": "code",
   "execution_count": 61,
   "metadata": {},
   "outputs": [
    {
     "data": {
      "text/plain": [
       "3.14"
      ]
     },
     "execution_count": 61,
     "metadata": {},
     "output_type": "execute_result"
    }
   ],
   "source": [
    "a = 3.14159\n",
    "round(a,2)"
   ]
  },
  {
   "cell_type": "code",
   "execution_count": 62,
   "metadata": {},
   "outputs": [
    {
     "name": "stdout",
     "output_type": "stream",
     "text": [
      "42 is the answer\n"
     ]
    }
   ],
   "source": [
    "integer = 42\n",
    "string = str(integer)\n",
    "print(string + \" is the answer\")"
   ]
  },
  {
   "cell_type": "code",
   "execution_count": 63,
   "metadata": {},
   "outputs": [
    {
     "name": "stdout",
     "output_type": "stream",
     "text": [
      "<class 'int'>\n"
     ]
    }
   ],
   "source": [
    "string = '25'\n",
    "integer = int(string)\n",
    "print(type(integer))"
   ]
  },
  {
   "cell_type": "code",
   "execution_count": 64,
   "metadata": {},
   "outputs": [
    {
     "name": "stdout",
     "output_type": "stream",
     "text": [
      "777\n",
      "21\n"
     ]
    }
   ],
   "source": [
    "a = '7'\n",
    "b = 7\n",
    "c = 3\n",
    "print( a * c)\n",
    "print(b * c)"
   ]
  },
  {
   "cell_type": "code",
   "execution_count": 65,
   "metadata": {},
   "outputs": [
    {
     "name": "stdout",
     "output_type": "stream",
     "text": [
      "24\n"
     ]
    },
    {
     "data": {
      "text/plain": [
       "24"
      ]
     },
     "execution_count": 65,
     "metadata": {},
     "output_type": "execute_result"
    }
   ],
   "source": [
    "temp = 24.5\n",
    "integer = int(temp)\n",
    "print(integer)\n",
    "round(temp)"
   ]
  },
  {
   "cell_type": "code",
   "execution_count": 66,
   "metadata": {},
   "outputs": [
    {
     "data": {
      "text/plain": [
       "['This', 'will', 'split', 'a', 'sentence', 'to', 'words']"
      ]
     },
     "execution_count": 66,
     "metadata": {},
     "output_type": "execute_result"
    }
   ],
   "source": [
    "sentence = \"This will split a sentence to words\"\n",
    "sentence.split(\" \")"
   ]
  },
  {
   "cell_type": "code",
   "execution_count": 67,
   "metadata": {},
   "outputs": [
    {
     "name": "stdout",
     "output_type": "stream",
     "text": [
      "Python is awesome\n"
     ]
    }
   ],
   "source": [
    "words = ['Python', 'is', 'awesome']\n",
    "sentence = \" \".join(words)  # Use a space as the separator\n",
    "print(sentence)"
   ]
  },
  {
   "cell_type": "code",
   "execution_count": 68,
   "metadata": {},
   "outputs": [
    {
     "name": "stdout",
     "output_type": "stream",
     "text": [
      "l\n"
     ]
    }
   ],
   "source": [
    "name = \"Palak\"\n",
    "print(name[2])"
   ]
  },
  {
   "cell_type": "code",
   "execution_count": 69,
   "metadata": {},
   "outputs": [
    {
     "name": "stdout",
     "output_type": "stream",
     "text": [
      "k\n"
     ]
    }
   ],
   "source": [
    "print(name[-1])"
   ]
  },
  {
   "cell_type": "code",
   "execution_count": 70,
   "metadata": {},
   "outputs": [
    {
     "name": "stdout",
     "output_type": "stream",
     "text": [
      "27\n"
     ]
    }
   ],
   "source": [
    "birth_year = 1998\n",
    "current_age = 2025 - birth_year\n",
    "print(current_age)"
   ]
  },
  {
   "cell_type": "code",
   "execution_count": 71,
   "metadata": {},
   "outputs": [
    {
     "name": "stdout",
     "output_type": "stream",
     "text": [
      "This is a multi-line string.\n",
      "It spans multiple lines.\n",
      "You can include line breaks directly.\n"
     ]
    }
   ],
   "source": [
    "# Multi-line string using triple quotes\n",
    "multi_line_string = \"\"\"This is a multi-line string.\n",
    "It spans multiple lines.\n",
    "You can include line breaks directly.\"\"\"\n",
    "print(multi_line_string)"
   ]
  },
  {
   "cell_type": "code",
   "execution_count": 72,
   "metadata": {},
   "outputs": [
    {
     "data": {
      "text/plain": [
       "True"
      ]
     },
     "execution_count": 72,
     "metadata": {},
     "output_type": "execute_result"
    }
   ],
   "source": [
    "'a' in full_name"
   ]
  },
  {
   "cell_type": "markdown",
   "metadata": {},
   "source": [
    "# Basic"
   ]
  },
  {
   "cell_type": "code",
   "execution_count": 73,
   "metadata": {},
   "outputs": [
    {
     "data": {
      "text/plain": [
       "12"
      ]
     },
     "execution_count": 73,
     "metadata": {},
     "output_type": "execute_result"
    }
   ],
   "source": [
    "(5 + 3)*2 - 4"
   ]
  },
  {
   "cell_type": "code",
   "execution_count": 74,
   "metadata": {},
   "outputs": [
    {
     "data": {
      "text/plain": [
       "2"
      ]
     },
     "execution_count": 74,
     "metadata": {},
     "output_type": "execute_result"
    }
   ],
   "source": [
    "17%3"
   ]
  },
  {
   "cell_type": "code",
   "execution_count": 75,
   "metadata": {},
   "outputs": [
    {
     "data": {
      "text/plain": [
       "5"
      ]
     },
     "execution_count": 75,
     "metadata": {},
     "output_type": "execute_result"
    }
   ],
   "source": [
    "17//3"
   ]
  },
  {
   "cell_type": "code",
   "execution_count": 76,
   "metadata": {},
   "outputs": [
    {
     "data": {
      "text/plain": [
       "32"
      ]
     },
     "execution_count": 76,
     "metadata": {},
     "output_type": "execute_result"
    }
   ],
   "source": [
    "2**5"
   ]
  },
  {
   "cell_type": "code",
   "execution_count": 77,
   "metadata": {},
   "outputs": [
    {
     "data": {
      "text/plain": [
       "32"
      ]
     },
     "execution_count": 77,
     "metadata": {},
     "output_type": "execute_result"
    }
   ],
   "source": [
    "pow(2,5)"
   ]
  },
  {
   "cell_type": "code",
   "execution_count": 78,
   "metadata": {},
   "outputs": [
    {
     "data": {
      "text/plain": [
       "'Parentheses ()\\nExponentiation **\\nMultiplication *, Division /, Floor division //, Modulus %\\nAddition +, Subtraction -'"
      ]
     },
     "execution_count": 78,
     "metadata": {},
     "output_type": "execute_result"
    }
   ],
   "source": [
    "# The precedence of operators (from highest to lowest) is: \n",
    "'''Parentheses ()\n",
    "Exponentiation **\n",
    "Multiplication *, Division /, Floor division //, Modulus %\n",
    "Addition +, Subtraction -'''"
   ]
  },
  {
   "cell_type": "code",
   "execution_count": 79,
   "metadata": {},
   "outputs": [
    {
     "data": {
      "text/plain": [
       "42"
      ]
     },
     "execution_count": 79,
     "metadata": {},
     "output_type": "execute_result"
    }
   ],
   "source": [
    "abs(-42)"
   ]
  },
  {
   "cell_type": "code",
   "execution_count": 80,
   "metadata": {},
   "outputs": [
    {
     "data": {
      "text/plain": [
       "50"
      ]
     },
     "execution_count": 80,
     "metadata": {},
     "output_type": "execute_result"
    }
   ],
   "source": [
    "max(20,50,10)"
   ]
  },
  {
   "cell_type": "code",
   "execution_count": 81,
   "metadata": {},
   "outputs": [
    {
     "data": {
      "text/plain": [
       "10"
      ]
     },
     "execution_count": 81,
     "metadata": {},
     "output_type": "execute_result"
    }
   ],
   "source": [
    "min(20,50,10)"
   ]
  },
  {
   "cell_type": "code",
   "execution_count": 82,
   "metadata": {},
   "outputs": [
    {
     "data": {
      "text/plain": [
       "4"
      ]
     },
     "execution_count": 82,
     "metadata": {},
     "output_type": "execute_result"
    }
   ],
   "source": [
    "round(3.75)"
   ]
  },
  {
   "cell_type": "code",
   "execution_count": 83,
   "metadata": {},
   "outputs": [
    {
     "data": {
      "text/plain": [
       "4.0"
      ]
     },
     "execution_count": 83,
     "metadata": {},
     "output_type": "execute_result"
    }
   ],
   "source": [
    "number = 16\n",
    "square_root = pow(number, 0.5)\n",
    "square_root"
   ]
  },
  {
   "cell_type": "code",
   "execution_count": 84,
   "metadata": {},
   "outputs": [
    {
     "name": "stdout",
     "output_type": "stream",
     "text": [
      "True\n"
     ]
    }
   ],
   "source": [
    "if 7 > 5 and 7 < 10:\n",
    "    print ('True') \n",
    "else:\n",
    "    print ('False')"
   ]
  },
  {
   "cell_type": "code",
   "execution_count": 85,
   "metadata": {},
   "outputs": [
    {
     "name": "stdout",
     "output_type": "stream",
     "text": [
      "97\n",
      "98\n",
      "True\n",
      "False\n",
      "False\n",
      "True\n",
      "True\n",
      "False\n"
     ]
    }
   ],
   "source": [
    "print(ord('a'))  \n",
    "print(ord('b'))  \n",
    "\n",
    "# Compare two strings lexicographically\n",
    "string1 = \"a\"\n",
    "string2 = \"b\"\n",
    "\n",
    "# Using comparison operators\n",
    "print(string1 < string2)   \n",
    "print(string1 > string2)   \n",
    "print(string1 == string2)  \n",
    "print(string1 != string2)  \n",
    "print(string1 <= string2) \n",
    "print(string1 >= string2)  "
   ]
  },
  {
   "cell_type": "code",
   "execution_count": 86,
   "metadata": {},
   "outputs": [
    {
     "name": "stdout",
     "output_type": "stream",
     "text": [
      "6\n"
     ]
    }
   ],
   "source": [
    "a = 4\n",
    "a += 2\n",
    "print(a)"
   ]
  },
  {
   "cell_type": "code",
   "execution_count": 87,
   "metadata": {},
   "outputs": [
    {
     "name": "stdout",
     "output_type": "stream",
     "text": [
      "palak new\n"
     ]
    }
   ],
   "source": [
    "name = \"palak\"\n",
    "name += \" new\"\n",
    "print(name)"
   ]
  },
  {
   "cell_type": "code",
   "execution_count": 88,
   "metadata": {},
   "outputs": [
    {
     "data": {
      "text/plain": [
       "False"
      ]
     },
     "execution_count": 88,
     "metadata": {},
     "output_type": "execute_result"
    }
   ],
   "source": [
    "a = 5 \n",
    "a == 6"
   ]
  },
  {
   "cell_type": "code",
   "execution_count": 89,
   "metadata": {},
   "outputs": [
    {
     "name": "stdout",
     "output_type": "stream",
     "text": [
      "odd\n"
     ]
    }
   ],
   "source": [
    "num = 5\n",
    "if num % 2 == 0:\n",
    "    print(\"even\")\n",
    "else:\n",
    "    print(\"odd\")"
   ]
  },
  {
   "cell_type": "code",
   "execution_count": 90,
   "metadata": {},
   "outputs": [
    {
     "data": {
      "text/plain": [
       "140"
      ]
     },
     "execution_count": 90,
     "metadata": {},
     "output_type": "execute_result"
    }
   ],
   "source": [
    "length = 50\n",
    "width = 20\n",
    "perimeter = 2*(length + width)\n",
    "perimeter"
   ]
  },
  {
   "cell_type": "code",
   "execution_count": 91,
   "metadata": {},
   "outputs": [
    {
     "data": {
      "text/plain": [
       "50.26544"
      ]
     },
     "execution_count": 91,
     "metadata": {},
     "output_type": "execute_result"
    }
   ],
   "source": [
    "radius = 4\n",
    "area = 3.14159 * pow(radius,2)\n",
    "area"
   ]
  },
  {
   "cell_type": "code",
   "execution_count": 92,
   "metadata": {},
   "outputs": [
    {
     "data": {
      "text/plain": [
       "39.2"
      ]
     },
     "execution_count": 92,
     "metadata": {},
     "output_type": "execute_result"
    }
   ],
   "source": [
    "C = 4\n",
    "F = (C * 9/5) + 32\n",
    "F"
   ]
  },
  {
   "cell_type": "code",
   "execution_count": 93,
   "metadata": {},
   "outputs": [
    {
     "name": "stdout",
     "output_type": "stream",
     "text": [
      "Mean: 30.0\n"
     ]
    }
   ],
   "source": [
    "data = [10, 20, 30, 40, 50]\n",
    "mean_value = sum(data) / len(data)\n",
    "print(f\"Mean: {mean_value}\")\n"
   ]
  },
  {
   "cell_type": "code",
   "execution_count": 94,
   "metadata": {},
   "outputs": [
    {
     "data": {
      "text/plain": [
       "-30"
      ]
     },
     "execution_count": 94,
     "metadata": {},
     "output_type": "execute_result"
    }
   ],
   "source": [
    "round(-30.456)"
   ]
  },
  {
   "cell_type": "markdown",
   "metadata": {},
   "source": [
    "# String"
   ]
  },
  {
   "cell_type": "code",
   "execution_count": 95,
   "metadata": {},
   "outputs": [
    {
     "data": {
      "text/plain": [
       "'lkjihgfedcb'"
      ]
     },
     "execution_count": 95,
     "metadata": {},
     "output_type": "execute_result"
    }
   ],
   "source": [
    "string = \"abcdefghijkl\"\n",
    "string[:0:-1]"
   ]
  },
  {
   "cell_type": "code",
   "execution_count": 96,
   "metadata": {},
   "outputs": [
    {
     "data": {
      "text/plain": [
       "'cfil'"
      ]
     },
     "execution_count": 96,
     "metadata": {},
     "output_type": "execute_result"
    }
   ],
   "source": [
    "string[2::3]"
   ]
  },
  {
   "cell_type": "code",
   "execution_count": 97,
   "metadata": {},
   "outputs": [
    {
     "name": "stdout",
     "output_type": "stream",
     "text": [
      "Hello, World!\n"
     ]
    }
   ],
   "source": [
    "# Example string with whitespace\n",
    "my_string = \"   Hello, World!   \"\n",
    "\n",
    "# Removing whitespace from both ends\n",
    "trimmed_string = my_string.strip()\n",
    "\n",
    "print(trimmed_string)"
   ]
  },
  {
   "cell_type": "code",
   "execution_count": 98,
   "metadata": {},
   "outputs": [
    {
     "data": {
      "text/plain": [
       "'p@l@k'"
      ]
     },
     "execution_count": 98,
     "metadata": {},
     "output_type": "execute_result"
    }
   ],
   "source": [
    "name = \"palak\"\n",
    "name.replace('a','@')"
   ]
  },
  {
   "cell_type": "code",
   "execution_count": 99,
   "metadata": {},
   "outputs": [
    {
     "name": "stdout",
     "output_type": "stream",
     "text": [
      "True\n"
     ]
    }
   ],
   "source": [
    "if name[0]=='p':\n",
    "    print('True')"
   ]
  },
  {
   "cell_type": "code",
   "execution_count": 100,
   "metadata": {},
   "outputs": [
    {
     "name": "stdout",
     "output_type": "stream",
     "text": [
      "True\n"
     ]
    }
   ],
   "source": [
    "if name[-1]=='k':\n",
    "    print('True')"
   ]
  },
  {
   "cell_type": "code",
   "execution_count": 101,
   "metadata": {},
   "outputs": [
    {
     "name": "stdout",
     "output_type": "stream",
     "text": [
      "Hello, World! Welcome To Python Programming.\n"
     ]
    }
   ],
   "source": [
    "# Example string\n",
    "my_string = \"hello, world! welcome to python programming.\"\n",
    "\n",
    "# Converting to title case\n",
    "title_case_string = my_string.title()\n",
    "\n",
    "print(title_case_string) "
   ]
  },
  {
   "cell_type": "code",
   "execution_count": 102,
   "metadata": {},
   "outputs": [
    {
     "data": {
      "text/plain": [
       "2"
      ]
     },
     "execution_count": 102,
     "metadata": {},
     "output_type": "execute_result"
    }
   ],
   "source": [
    "name.count('a')"
   ]
  },
  {
   "cell_type": "code",
   "execution_count": 103,
   "metadata": {},
   "outputs": [
    {
     "data": {
      "text/plain": [
       "2"
      ]
     },
     "execution_count": 103,
     "metadata": {},
     "output_type": "execute_result"
    }
   ],
   "source": [
    "name.find('l')"
   ]
  },
  {
   "cell_type": "code",
   "execution_count": 104,
   "metadata": {},
   "outputs": [
    {
     "data": {
      "text/plain": [
       "0"
      ]
     },
     "execution_count": 104,
     "metadata": {},
     "output_type": "execute_result"
    }
   ],
   "source": [
    "name.index('p')"
   ]
  },
  {
   "cell_type": "code",
   "execution_count": 105,
   "metadata": {},
   "outputs": [
    {
     "data": {
      "text/plain": [
       "-1"
      ]
     },
     "execution_count": 105,
     "metadata": {},
     "output_type": "execute_result"
    }
   ],
   "source": [
    "name.find('z')"
   ]
  },
  {
   "cell_type": "code",
   "execution_count": 106,
   "metadata": {},
   "outputs": [
    {
     "ename": "ValueError",
     "evalue": "substring not found",
     "output_type": "error",
     "traceback": [
      "\u001b[1;31m---------------------------------------------------------------------------\u001b[0m",
      "\u001b[1;31mValueError\u001b[0m                                Traceback (most recent call last)",
      "Cell \u001b[1;32mIn[106], line 1\u001b[0m\n\u001b[1;32m----> 1\u001b[0m \u001b[43mname\u001b[49m\u001b[38;5;241;43m.\u001b[39;49m\u001b[43mindex\u001b[49m\u001b[43m(\u001b[49m\u001b[38;5;124;43m'\u001b[39;49m\u001b[38;5;124;43mz\u001b[39;49m\u001b[38;5;124;43m'\u001b[39;49m\u001b[43m)\u001b[49m\n",
      "\u001b[1;31mValueError\u001b[0m: substring not found"
     ]
    }
   ],
   "source": [
    "name.index('z')"
   ]
  },
  {
   "cell_type": "code",
   "execution_count": 107,
   "metadata": {},
   "outputs": [
    {
     "name": "stdout",
     "output_type": "stream",
     "text": [
      "123456789\n"
     ]
    }
   ],
   "source": [
    "my_string = \"abc123def456ghi789\"\n",
    "\n",
    "# Extracting only digits\n",
    "digits_only = ''.join(char for char in my_string if char.isdigit())\n",
    "\n",
    "print(digits_only) "
   ]
  },
  {
   "cell_type": "code",
   "execution_count": 108,
   "metadata": {},
   "outputs": [
    {
     "name": "stdout",
     "output_type": "stream",
     "text": [
      "abcdefghi\n"
     ]
    }
   ],
   "source": [
    "# Example string\n",
    "my_string = \"abc123def456ghi789\"\n",
    "\n",
    "# Extracting only digits\n",
    "string_only = ''.join(char for char in my_string if char.isalpha())\n",
    "\n",
    "print(string_only)  "
   ]
  },
  {
   "cell_type": "code",
   "execution_count": 109,
   "metadata": {},
   "outputs": [
    {
     "data": {
      "text/plain": [
       "['a',\n",
       " 'b',\n",
       " 'c',\n",
       " '1',\n",
       " '2',\n",
       " '3',\n",
       " 'd',\n",
       " 'e',\n",
       " 'f',\n",
       " '4',\n",
       " '5',\n",
       " '6',\n",
       " 'g',\n",
       " 'h',\n",
       " 'i',\n",
       " '7',\n",
       " '8',\n",
       " '9']"
      ]
     },
     "execution_count": 109,
     "metadata": {},
     "output_type": "execute_result"
    }
   ],
   "source": [
    "list(my_string)"
   ]
  },
  {
   "cell_type": "code",
   "execution_count": 110,
   "metadata": {},
   "outputs": [
    {
     "name": "stdout",
     "output_type": "stream",
     "text": [
      "*******Hello********\n"
     ]
    }
   ],
   "source": [
    "# Example string\n",
    "my_string = \"Hello\"\n",
    "\n",
    "# Center the string\n",
    "centered_string = my_string.center(20, '*')\n",
    "\n",
    "print(centered_string)"
   ]
  },
  {
   "cell_type": "code",
   "execution_count": 111,
   "metadata": {},
   "outputs": [
    {
     "name": "stdout",
     "output_type": "stream",
     "text": [
      "---------------Hello\n"
     ]
    }
   ],
   "source": [
    "# Example string\n",
    "my_string = \"Hello\"\n",
    "\n",
    "# Center the string\n",
    "right_string = my_string.rjust(20, '-')\n",
    "\n",
    "print(right_string)"
   ]
  },
  {
   "cell_type": "code",
   "execution_count": 112,
   "metadata": {},
   "outputs": [
    {
     "name": "stdout",
     "output_type": "stream",
     "text": [
      "Hello---------------\n"
     ]
    }
   ],
   "source": [
    "# Example string\n",
    "my_string = \"Hello\"\n",
    "\n",
    "# Center the string\n",
    "left_string = my_string.ljust(20, '-')\n",
    "\n",
    "print(left_string)"
   ]
  },
  {
   "cell_type": "code",
   "execution_count": 113,
   "metadata": {},
   "outputs": [
    {
     "name": "stdout",
     "output_type": "stream",
     "text": [
      "True\n",
      "False\n"
     ]
    }
   ],
   "source": [
    "# Example strings\n",
    "string1 = \"HelloWorld\"\n",
    "string2 = \"Hello123\"\n",
    "\n",
    "# Check if the strings contain only alphabetic characters\n",
    "print(string1.isalpha())  \n",
    "print(string2.isalpha())  "
   ]
  },
  {
   "cell_type": "code",
   "execution_count": 114,
   "metadata": {},
   "outputs": [
    {
     "name": "stdout",
     "output_type": "stream",
     "text": [
      "True\n",
      "False\n"
     ]
    }
   ],
   "source": [
    "string3 = '234'\n",
    "print(string3.isdigit())  \n",
    "print(string2.isdigit()) "
   ]
  },
  {
   "cell_type": "code",
   "execution_count": 115,
   "metadata": {},
   "outputs": [
    {
     "name": "stdout",
     "output_type": "stream",
     "text": [
      "['Hello,', 'how', 'are', 'you?']\n"
     ]
    }
   ],
   "source": [
    "# Original string\n",
    "my_string = \"Hello, how are you?\"\n",
    "\n",
    "# Convert string to a list of words\n",
    "words_list = my_string.split()\n",
    "print(words_list)"
   ]
  },
  {
   "cell_type": "code",
   "execution_count": 116,
   "metadata": {},
   "outputs": [
    {
     "name": "stdout",
     "output_type": "stream",
     "text": [
      "Hello, how are you?\n"
     ]
    }
   ],
   "source": [
    "# Convert the list of words back to a string\n",
    "reconstructed_string = ' '.join(words_list)\n",
    "print(reconstructed_string)"
   ]
  },
  {
   "cell_type": "markdown",
   "metadata": {},
   "source": [
    "# List"
   ]
  },
  {
   "cell_type": "code",
   "execution_count": 117,
   "metadata": {},
   "outputs": [
    {
     "data": {
      "text/plain": [
       "10"
      ]
     },
     "execution_count": 117,
     "metadata": {},
     "output_type": "execute_result"
    }
   ],
   "source": [
    "lst = [1,2,3,4,5,6,7,8,9,10]\n",
    "len(lst)"
   ]
  },
  {
   "cell_type": "code",
   "execution_count": 118,
   "metadata": {},
   "outputs": [
    {
     "data": {
      "text/plain": [
       "1"
      ]
     },
     "execution_count": 118,
     "metadata": {},
     "output_type": "execute_result"
    }
   ],
   "source": [
    "lst[0]"
   ]
  },
  {
   "cell_type": "code",
   "execution_count": 119,
   "metadata": {},
   "outputs": [
    {
     "data": {
      "text/plain": [
       "10"
      ]
     },
     "execution_count": 119,
     "metadata": {},
     "output_type": "execute_result"
    }
   ],
   "source": [
    "lst[-1]"
   ]
  },
  {
   "cell_type": "code",
   "execution_count": 120,
   "metadata": {},
   "outputs": [
    {
     "data": {
      "text/plain": [
       "6"
      ]
     },
     "execution_count": 120,
     "metadata": {},
     "output_type": "execute_result"
    }
   ],
   "source": [
    "lst[5]"
   ]
  },
  {
   "cell_type": "code",
   "execution_count": 121,
   "metadata": {},
   "outputs": [],
   "source": [
    "lst.append(11)"
   ]
  },
  {
   "cell_type": "code",
   "execution_count": 122,
   "metadata": {},
   "outputs": [
    {
     "data": {
      "text/plain": [
       "[1, 2, 3, 4, 5, 6, 7, 8, 9, 10, 11]"
      ]
     },
     "execution_count": 122,
     "metadata": {},
     "output_type": "execute_result"
    }
   ],
   "source": [
    "lst"
   ]
  },
  {
   "cell_type": "code",
   "execution_count": 123,
   "metadata": {},
   "outputs": [],
   "source": [
    "lst.insert(0,0)"
   ]
  },
  {
   "cell_type": "code",
   "execution_count": 124,
   "metadata": {},
   "outputs": [
    {
     "data": {
      "text/plain": [
       "[0, 1, 2, 3, 4, 5, 6, 7, 8, 9, 10, 11]"
      ]
     },
     "execution_count": 124,
     "metadata": {},
     "output_type": "execute_result"
    }
   ],
   "source": [
    "lst"
   ]
  },
  {
   "cell_type": "code",
   "execution_count": 125,
   "metadata": {},
   "outputs": [
    {
     "data": {
      "text/plain": [
       "11"
      ]
     },
     "execution_count": 125,
     "metadata": {},
     "output_type": "execute_result"
    }
   ],
   "source": [
    "lst.pop(11)"
   ]
  },
  {
   "cell_type": "code",
   "execution_count": 126,
   "metadata": {},
   "outputs": [
    {
     "data": {
      "text/plain": [
       "[0, 1, 2, 3, 4, 5, 6, 7, 8, 9, 10]"
      ]
     },
     "execution_count": 126,
     "metadata": {},
     "output_type": "execute_result"
    }
   ],
   "source": [
    "lst"
   ]
  },
  {
   "cell_type": "code",
   "execution_count": 127,
   "metadata": {},
   "outputs": [],
   "source": [
    "lst.remove(0)"
   ]
  },
  {
   "cell_type": "code",
   "execution_count": 128,
   "metadata": {},
   "outputs": [
    {
     "data": {
      "text/plain": [
       "[1, 2, 3, 4, 5, 6, 7, 8, 9, 10]"
      ]
     },
     "execution_count": 128,
     "metadata": {},
     "output_type": "execute_result"
    }
   ],
   "source": [
    "lst"
   ]
  },
  {
   "cell_type": "code",
   "execution_count": 129,
   "metadata": {},
   "outputs": [],
   "source": [
    "lst.sort()"
   ]
  },
  {
   "cell_type": "code",
   "execution_count": 130,
   "metadata": {},
   "outputs": [
    {
     "data": {
      "text/plain": [
       "[1, 2, 3, 4, 5, 6, 7, 8, 9, 10]"
      ]
     },
     "execution_count": 130,
     "metadata": {},
     "output_type": "execute_result"
    }
   ],
   "source": [
    "lst"
   ]
  },
  {
   "cell_type": "code",
   "execution_count": 131,
   "metadata": {},
   "outputs": [],
   "source": [
    "lst.sort(reverse=True)"
   ]
  },
  {
   "cell_type": "code",
   "execution_count": 132,
   "metadata": {},
   "outputs": [
    {
     "data": {
      "text/plain": [
       "[10, 9, 8, 7, 6, 5, 4, 3, 2, 1]"
      ]
     },
     "execution_count": 132,
     "metadata": {},
     "output_type": "execute_result"
    }
   ],
   "source": [
    "lst"
   ]
  },
  {
   "cell_type": "code",
   "execution_count": 133,
   "metadata": {},
   "outputs": [],
   "source": [
    "lst_string = ['a','b','c','d','e']"
   ]
  },
  {
   "cell_type": "code",
   "execution_count": 134,
   "metadata": {},
   "outputs": [],
   "source": [
    "lst_string.sort(reverse=True)"
   ]
  },
  {
   "cell_type": "code",
   "execution_count": 135,
   "metadata": {},
   "outputs": [
    {
     "data": {
      "text/plain": [
       "['e', 'd', 'c', 'b', 'a']"
      ]
     },
     "execution_count": 135,
     "metadata": {},
     "output_type": "execute_result"
    }
   ],
   "source": [
    "lst_string"
   ]
  },
  {
   "cell_type": "code",
   "execution_count": 136,
   "metadata": {},
   "outputs": [],
   "source": [
    "lst_string_1 = ['palak','prabodh','shruti','sakshi','rohit']"
   ]
  },
  {
   "cell_type": "code",
   "execution_count": 137,
   "metadata": {},
   "outputs": [],
   "source": [
    "lst_string_1.sort()"
   ]
  },
  {
   "cell_type": "code",
   "execution_count": 138,
   "metadata": {},
   "outputs": [
    {
     "data": {
      "text/plain": [
       "['palak', 'prabodh', 'rohit', 'sakshi', 'shruti']"
      ]
     },
     "execution_count": 138,
     "metadata": {},
     "output_type": "execute_result"
    }
   ],
   "source": [
    "lst_string_1"
   ]
  },
  {
   "cell_type": "code",
   "execution_count": 139,
   "metadata": {},
   "outputs": [],
   "source": [
    "lst_string_alpha = ['a','b','c','d','e','f','g','h']"
   ]
  },
  {
   "cell_type": "code",
   "execution_count": 140,
   "metadata": {},
   "outputs": [],
   "source": [
    "lst_string_alpha.reverse()"
   ]
  },
  {
   "cell_type": "code",
   "execution_count": 141,
   "metadata": {},
   "outputs": [
    {
     "data": {
      "text/plain": [
       "['h', 'g', 'f', 'e', 'd', 'c', 'b', 'a']"
      ]
     },
     "execution_count": 141,
     "metadata": {},
     "output_type": "execute_result"
    }
   ],
   "source": [
    "lst_string_alpha"
   ]
  },
  {
   "cell_type": "code",
   "execution_count": 142,
   "metadata": {},
   "outputs": [
    {
     "name": "stdout",
     "output_type": "stream",
     "text": [
      "[1, 2, 3, 4]\n"
     ]
    }
   ],
   "source": [
    "my_list = [1, 2, 3, 4]\n",
    "shallow_copy = list(my_list)\n",
    "print(shallow_copy)"
   ]
  },
  {
   "cell_type": "code",
   "execution_count": 143,
   "metadata": {},
   "outputs": [
    {
     "name": "stdout",
     "output_type": "stream",
     "text": [
      "Original list: [[1, 2], [3, 4], [5, 6]]\n",
      "Deep copy: [[10, 2], [3, 4], [5, 6]]\n"
     ]
    }
   ],
   "source": [
    "import copy\n",
    "\n",
    "my_list = [[1, 2], [3, 4], [5, 6]]\n",
    "deep_copy = copy.deepcopy(my_list)\n",
    "\n",
    "# Modify the deep copy\n",
    "deep_copy[0][0] = 10\n",
    "\n",
    "# Print both lists\n",
    "print(\"Original list:\", my_list)\n",
    "print(\"Deep copy:\", deep_copy)"
   ]
  },
  {
   "cell_type": "code",
   "execution_count": 144,
   "metadata": {},
   "outputs": [
    {
     "data": {
      "text/plain": [
       "2"
      ]
     },
     "execution_count": 144,
     "metadata": {},
     "output_type": "execute_result"
    }
   ],
   "source": [
    "lst_string.index('c')"
   ]
  },
  {
   "cell_type": "code",
   "execution_count": 145,
   "metadata": {},
   "outputs": [
    {
     "name": "stdout",
     "output_type": "stream",
     "text": [
      "3\n"
     ]
    }
   ],
   "source": [
    "# list.count(element)\n",
    "my_list = [1, 2, 3, 2, 2, 4]\n",
    "count_of_2 = my_list.count(2)\n",
    "print(count_of_2)"
   ]
  },
  {
   "cell_type": "code",
   "execution_count": 146,
   "metadata": {},
   "outputs": [],
   "source": [
    "combined_lst = lst_string + lst_string_alpha"
   ]
  },
  {
   "cell_type": "code",
   "execution_count": 147,
   "metadata": {},
   "outputs": [
    {
     "data": {
      "text/plain": [
       "['e', 'd', 'c', 'b', 'a', 'h', 'g', 'f', 'e', 'd', 'c', 'b', 'a']"
      ]
     },
     "execution_count": 147,
     "metadata": {},
     "output_type": "execute_result"
    }
   ],
   "source": [
    "combined_lst"
   ]
  },
  {
   "cell_type": "code",
   "execution_count": 148,
   "metadata": {},
   "outputs": [],
   "source": [
    "lst_string.extend(lst_string_alpha)"
   ]
  },
  {
   "cell_type": "code",
   "execution_count": 149,
   "metadata": {},
   "outputs": [
    {
     "data": {
      "text/plain": [
       "['e', 'd', 'c', 'b', 'a', 'h', 'g', 'f', 'e', 'd', 'c', 'b', 'a']"
      ]
     },
     "execution_count": 149,
     "metadata": {},
     "output_type": "execute_result"
    }
   ],
   "source": [
    "lst_string"
   ]
  },
  {
   "cell_type": "code",
   "execution_count": 150,
   "metadata": {},
   "outputs": [
    {
     "name": "stdout",
     "output_type": "stream",
     "text": [
      "15\n"
     ]
    }
   ],
   "source": [
    "my_list = [1, 2, 3, 4, 5]\n",
    "total_sum = sum(my_list)\n",
    "print(total_sum)"
   ]
  },
  {
   "cell_type": "code",
   "execution_count": 151,
   "metadata": {},
   "outputs": [
    {
     "name": "stdout",
     "output_type": "stream",
     "text": [
      "3.0\n"
     ]
    }
   ],
   "source": [
    "my_list = [1, 2, 3, 4, 5]\n",
    "average = sum(my_list) / len(my_list)\n",
    "print(average)"
   ]
  },
  {
   "cell_type": "code",
   "execution_count": 152,
   "metadata": {},
   "outputs": [
    {
     "name": "stdout",
     "output_type": "stream",
     "text": [
      "[1, 2, 3, 4, 5]\n"
     ]
    }
   ],
   "source": [
    "my_list = [1, 2, 2, 3, 4, 4, 5]\n",
    "unique_list = []\n",
    "seen = set()\n",
    "\n",
    "for item in my_list:\n",
    "    if item not in seen:\n",
    "        unique_list.append(item)\n",
    "        seen.add(item)\n",
    "\n",
    "print(unique_list)"
   ]
  },
  {
   "cell_type": "code",
   "execution_count": 153,
   "metadata": {},
   "outputs": [
    {
     "name": "stdout",
     "output_type": "stream",
     "text": [
      "The lists have at least one element in common: {3}\n"
     ]
    }
   ],
   "source": [
    "list1 = [1, 2, 3, 4]\n",
    "list2 = [3, 5, 6, 7]\n",
    "\n",
    "common_elements = set(list1) & set(list2)\n",
    "\n",
    "if common_elements:\n",
    "    print(\"The lists have at least one element in common:\", common_elements)\n",
    "else:\n",
    "    print(\"The lists have no common elements.\")"
   ]
  },
  {
   "cell_type": "markdown",
   "metadata": {},
   "source": [
    "# Basic Control Flow"
   ]
  },
  {
   "cell_type": "code",
   "execution_count": 154,
   "metadata": {},
   "outputs": [
    {
     "name": "stdout",
     "output_type": "stream",
     "text": [
      "Negative\n"
     ]
    }
   ],
   "source": [
    "num = -3\n",
    "if num < 0:\n",
    "    print(\"Negative\")\n",
    "else:\n",
    "    print(\"Positive\")"
   ]
  },
  {
   "cell_type": "code",
   "execution_count": 155,
   "metadata": {},
   "outputs": [
    {
     "name": "stdout",
     "output_type": "stream",
     "text": [
      "Zero\n"
     ]
    }
   ],
   "source": [
    "num = 0\n",
    "if num == 0:\n",
    "    print(\"Zero\")\n",
    "elif num > 0:\n",
    "    print(\"Positive\")\n",
    "else:\n",
    "    print(\"Negative\")"
   ]
  },
  {
   "cell_type": "code",
   "execution_count": 156,
   "metadata": {},
   "outputs": [
    {
     "name": "stdout",
     "output_type": "stream",
     "text": [
      "Not a leap year\n"
     ]
    }
   ],
   "source": [
    "year = 2025\n",
    "if year % 4 == 0:\n",
    "    print(\"Leap year\")\n",
    "else:\n",
    "    print(\"Not a leap year\")"
   ]
  },
  {
   "cell_type": "code",
   "execution_count": 157,
   "metadata": {},
   "outputs": [
    {
     "name": "stdout",
     "output_type": "stream",
     "text": [
      "Zero and positive\n"
     ]
    }
   ],
   "source": [
    "num = 6\n",
    "if num > 0:\n",
    "    if num % 2 ==0:\n",
    "        print('Zero and positive')\n",
    "else:\n",
    "    print('Not zero and positive')"
   ]
  },
  {
   "cell_type": "code",
   "execution_count": 177,
   "metadata": {},
   "outputs": [
    {
     "name": "stdin",
     "output_type": "stream",
     "text": [
      "Enter number :  3\n",
      "Enter number :  4\n",
      "Enter number :  5\n"
     ]
    },
    {
     "name": "stdout",
     "output_type": "stream",
     "text": [
      "5 is maximum\n"
     ]
    }
   ],
   "source": [
    "num1 =  int(input(\"Enter number : \")) \n",
    "num2 =  int(input(\"Enter number : \")) \n",
    "num3 =  int(input(\"Enter number : \")) \n",
    "if num1 > num2 and num1 > num3:\n",
    "    print(f'{num1} is maximum')\n",
    "elif num1 < num2 and num2 > num3:\n",
    "    print(f'{num2} is maximum')\n",
    "else:\n",
    "    print(f'{num3} is maximum')"
   ]
  },
  {
   "cell_type": "code",
   "execution_count": 160,
   "metadata": {},
   "outputs": [
    {
     "name": "stdin",
     "output_type": "stream",
     "text": [
      "Enter number :  3\n",
      "Enter number :  5\n",
      "Enter operation:  ADD\n"
     ]
    },
    {
     "name": "stdout",
     "output_type": "stream",
     "text": [
      "8\n"
     ]
    }
   ],
   "source": [
    "num1 = int(input(\"Enter number : \")) \n",
    "num2 = int(input(\"Enter number : \")) \n",
    "operation = input(\"Enter operation: \")\n",
    "if operation == 'ADD':\n",
    "    result = num1 + num2 \n",
    "elif operation == 'SUBTRACT':\n",
    "    result = num1 - num2\n",
    "elif operation == 'MULTIPLY':\n",
    "    result = num1 * num2\n",
    "elif operation == 'SUM':\n",
    "    result = num1 / num2\n",
    "print(result)"
   ]
  },
  {
   "cell_type": "code",
   "execution_count": 161,
   "metadata": {},
   "outputs": [
    {
     "name": "stdin",
     "output_type": "stream",
     "text": [
      "Enter your alphabet:  r\n"
     ]
    },
    {
     "name": "stdout",
     "output_type": "stream",
     "text": [
      "Consonant\n"
     ]
    }
   ],
   "source": [
    "vowels = ['a','e','i','o','u']\n",
    "char = input(\"Enter your alphabet: \")\n",
    "if char.lower() in vowels:\n",
    "    print(\"Vowel\")\n",
    "else:\n",
    "    print(\"Consonant\")"
   ]
  },
  {
   "cell_type": "code",
   "execution_count": 162,
   "metadata": {},
   "outputs": [
    {
     "name": "stdin",
     "output_type": "stream",
     "text": [
      "Enter number :  60\n"
     ]
    },
    {
     "name": "stdout",
     "output_type": "stream",
     "text": [
      "Grade: B\n"
     ]
    }
   ],
   "source": [
    "score = int(input(\"Enter number : \")) \n",
    "if score >= 80:\n",
    "    print('Grade: A')\n",
    "elif score >= 60 and score < 80:\n",
    "    print('Grade: B')\n",
    "elif score >= 40 and score < 60:\n",
    "    print('Grade: C')\n",
    "elif score >= 20 and score < 40:\n",
    "    print('Grade: D')\n",
    "elif score >= 0 and score < 20:\n",
    "    print('Grade: F')"
   ]
  },
  {
   "cell_type": "code",
   "execution_count": 163,
   "metadata": {},
   "outputs": [
    {
     "name": "stdin",
     "output_type": "stream",
     "text": [
      "Enter first side :  4\n",
      "Enter second side :  5\n",
      "Enter third side :  4\n"
     ]
    },
    {
     "name": "stdout",
     "output_type": "stream",
     "text": [
      "Triangle is isosceles\n"
     ]
    }
   ],
   "source": [
    "side1 = int(input(\"Enter first side : \"))\n",
    "side2 = int(input(\"Enter second side : \"))\n",
    "side3 = int(input(\"Enter third side : \"))\n",
    "if side1 == side2 and side2 == side3:\n",
    "    print('Triangle is equilateral')\n",
    "elif side1 == side2 or side2 == side3 or side3 == side1:\n",
    "    print('Triangle is isosceles')\n",
    "else:\n",
    "    print('Triangle is scalene')"
   ]
  },
  {
   "cell_type": "code",
   "execution_count": 164,
   "metadata": {},
   "outputs": [
    {
     "name": "stdin",
     "output_type": "stream",
     "text": [
      "Enter number :  6\n"
     ]
    },
    {
     "name": "stdout",
     "output_type": "stream",
     "text": [
      "Yes\n"
     ]
    }
   ],
   "source": [
    "num1 = int(input(\"Enter number : \"))\n",
    "if num1 % 2 == 0 and num1 % 3 ==0:\n",
    "    print('Yes')\n",
    "else:\n",
    "    print('No')"
   ]
  },
  {
   "cell_type": "code",
   "execution_count": 165,
   "metadata": {},
   "outputs": [
    {
     "name": "stdout",
     "output_type": "stream",
     "text": [
      "1\n",
      "2\n",
      "3\n",
      "4\n",
      "5\n"
     ]
    }
   ],
   "source": [
    "i = 1\n",
    "while i<6:\n",
    "    print(i)\n",
    "    i+=1"
   ]
  },
  {
   "cell_type": "code",
   "execution_count": 166,
   "metadata": {},
   "outputs": [
    {
     "name": "stdin",
     "output_type": "stream",
     "text": [
      "Enter a number:  6\n"
     ]
    },
    {
     "name": "stdout",
     "output_type": "stream",
     "text": [
      "\n",
      "Multiplication Table of 6\n",
      "6 x 1 = 6\n",
      "6 x 2 = 12\n",
      "6 x 3 = 18\n",
      "6 x 4 = 24\n",
      "6 x 5 = 30\n",
      "6 x 6 = 36\n",
      "6 x 7 = 42\n",
      "6 x 8 = 48\n",
      "6 x 9 = 54\n",
      "6 x 10 = 60\n"
     ]
    }
   ],
   "source": [
    "num = int(input(\"Enter a number: \"))\n",
    "\n",
    "print(f\"\\nMultiplication Table of {num}\")\n",
    "for i in range(1, 11):  # From 1 to 10\n",
    "    print(f\"{num} x {i} = {num * i}\")"
   ]
  },
  {
   "cell_type": "code",
   "execution_count": 167,
   "metadata": {},
   "outputs": [
    {
     "name": "stdin",
     "output_type": "stream",
     "text": [
      "Enter a number:  3\n"
     ]
    },
    {
     "name": "stdout",
     "output_type": "stream",
     "text": [
      "The factorial of 3 is 6.\n"
     ]
    }
   ],
   "source": [
    "num = int(input(\"Enter a number: \"))\n",
    "\n",
    "factorial = 1\n",
    "\n",
    "if num < 0:\n",
    "    print(\"Factorial is not defined for negative numbers.\")\n",
    "elif num == 0:\n",
    "    print(\"The factorial of 0 is 1.\")\n",
    "else:\n",
    "    for i in range(1, num + 1):\n",
    "        factorial *= i\n",
    "    print(f\"The factorial of {num} is {factorial}.\")\n"
   ]
  },
  {
   "cell_type": "code",
   "execution_count": 168,
   "metadata": {},
   "outputs": [
    {
     "name": "stdout",
     "output_type": "stream",
     "text": [
      "2\n",
      "4\n",
      "6\n",
      "8\n",
      "10\n"
     ]
    }
   ],
   "source": [
    "for i in range(2,11,2):\n",
    "    print(i)"
   ]
  },
  {
   "cell_type": "code",
   "execution_count": 169,
   "metadata": {},
   "outputs": [
    {
     "name": "stdout",
     "output_type": "stream",
     "text": [
      "1\n",
      "3\n",
      "5\n",
      "7\n",
      "9\n"
     ]
    }
   ],
   "source": [
    "for i in range(1,11,2):\n",
    "    print(i)"
   ]
  },
  {
   "cell_type": "code",
   "execution_count": 171,
   "metadata": {},
   "outputs": [
    {
     "name": "stdin",
     "output_type": "stream",
     "text": [
      "Enter a number:  4\n"
     ]
    },
    {
     "name": "stdout",
     "output_type": "stream",
     "text": [
      "The total of 4 is 10.\n"
     ]
    }
   ],
   "source": [
    "n = int(input(\"Enter a number: \"))\n",
    "total = 0\n",
    "for i in range(1,n+1):\n",
    "    total = total + i\n",
    "print(f\"The total of {n} is {total}.\")"
   ]
  },
  {
   "cell_type": "code",
   "execution_count": 172,
   "metadata": {},
   "outputs": [
    {
     "name": "stdin",
     "output_type": "stream",
     "text": [
      "Enter the number of terms:  5\n"
     ]
    },
    {
     "name": "stdout",
     "output_type": "stream",
     "text": [
      "Fibonacci sequence up to 5 terms:\n",
      "0 1 1 2 3 "
     ]
    }
   ],
   "source": [
    "# Get number of terms from the user\n",
    "n = int(input(\"Enter the number of terms: \"))\n",
    "\n",
    "# First two terms\n",
    "a, b = 0, 1\n",
    "\n",
    "if n <= 0:\n",
    "    print(\"Please enter a positive integer.\")\n",
    "elif n == 1:\n",
    "    print(\"Fibonacci sequence up to 1 term:\")\n",
    "    print(a)\n",
    "else:\n",
    "    print(f\"Fibonacci sequence up to {n} terms:\")\n",
    "    for i in range(n):\n",
    "        print(a, end=' ')\n",
    "        a, b = b, a + b\n"
   ]
  },
  {
   "cell_type": "code",
   "execution_count": 173,
   "metadata": {},
   "outputs": [
    {
     "name": "stdin",
     "output_type": "stream",
     "text": [
      "Enter a number:  9\n"
     ]
    },
    {
     "name": "stdout",
     "output_type": "stream",
     "text": [
      "Factors of 9 are:\n",
      "1\n",
      "3\n",
      "9\n"
     ]
    }
   ],
   "source": [
    "num = int(input(\"Enter a number: \"))\n",
    "\n",
    "print(f\"Factors of {num} are:\")\n",
    "for i in range(1, num + 1):\n",
    "    if num % i == 0:\n",
    "        print(i)\n"
   ]
  },
  {
   "cell_type": "code",
   "execution_count": 174,
   "metadata": {},
   "outputs": [
    {
     "name": "stdin",
     "output_type": "stream",
     "text": [
      "Enter the number of rows:  8\n"
     ]
    },
    {
     "name": "stdout",
     "output_type": "stream",
     "text": [
      "* \n",
      "* * \n",
      "* * * \n",
      "* * * * \n",
      "* * * * * \n",
      "* * * * * * \n",
      "* * * * * * * \n",
      "* * * * * * * * \n"
     ]
    }
   ],
   "source": [
    "rows = int(input(\"Enter the number of rows: \"))\n",
    "\n",
    "for i in range(1, rows + 1):       # Outer loop for rows\n",
    "    for j in range(1, i + 1):      # Inner loop for stars\n",
    "        print(\"*\", end=\" \")\n",
    "    print()  # Moves to the next line after each row\n"
   ]
  },
  {
   "cell_type": "code",
   "execution_count": null,
   "metadata": {},
   "outputs": [],
   "source": []
  }
 ],
 "metadata": {
  "colab": {
   "provenance": []
  },
  "kernelspec": {
   "display_name": "Python 3 (ipykernel)",
   "language": "python",
   "name": "python3"
  },
  "language_info": {
   "codemirror_mode": {
    "name": "ipython",
    "version": 3
   },
   "file_extension": ".py",
   "mimetype": "text/x-python",
   "name": "python",
   "nbconvert_exporter": "python",
   "pygments_lexer": "ipython3",
   "version": "3.13.1"
  }
 },
 "nbformat": 4,
 "nbformat_minor": 4
}
